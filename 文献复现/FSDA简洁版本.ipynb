{
 "cells": [
  {
   "cell_type": "markdown",
   "id": "7dad84a6",
   "metadata": {},
   "source": [
    "# 代码实现\n",
    "## 导入数据"
   ]
  },
  {
   "cell_type": "code",
   "execution_count": 1,
   "id": "5bc60919",
   "metadata": {},
   "outputs": [],
   "source": [
    "import math\n",
    "import numpy as np\n",
    "import matplotlib.pyplot as plt\n",
    "import pandas as pd\n",
    "import sklearn\n",
    "from sklearn import datasets\n",
    "from sklearn.decomposition import PCA\n",
    "from sklearn import svm\n",
    "from sklearn.discriminant_analysis import LinearDiscriminantAnalysis\n",
    "from sklearn.metrics import accuracy_score\n",
    "\n",
    "df = pd.read_csv('F:\\\\Data and code\\\\data\\\\FSDA\\\\phoneme.data',index_col = 0)\n",
    "pd.set_option('display.max_rows',5)"
   ]
  },
  {
   "cell_type": "markdown",
   "id": "3776f52d",
   "metadata": {},
   "source": [
    "* speaker文章里面没有管\n",
    "* test.dr1.mdab0.sa1——第3341行【索引是3340】是第一个测试集行\n",
    "* 3340行df.iloc[:3340]训练集\n",
    "* 1169行df.iloc[3340:]测试集"
   ]
  },
  {
   "cell_type": "markdown",
   "id": "6396fe0b",
   "metadata": {},
   "source": [
    "## Data Split"
   ]
  },
  {
   "cell_type": "code",
   "execution_count": 2,
   "id": "651a0fb3",
   "metadata": {},
   "outputs": [],
   "source": [
    "Xtrain = df.iloc[:3340,:-2]\n",
    "Ytrain = df.iloc[:3340,-2]\n",
    "\n",
    "Xtest = df.iloc[3340:,:-2]\n",
    "Ytest = df.iloc[3340:,-2]"
   ]
  },
  {
   "cell_type": "markdown",
   "id": "732d441c",
   "metadata": {},
   "source": [
    "## 代码实现"
   ]
  },
  {
   "cell_type": "markdown",
   "id": "80c3dafd",
   "metadata": {},
   "source": [
    "### F统计量\n",
    "* 通过F统计量选出m个marker，以及对应的段\n",
    "* 这里首先尝试论文中交叉验证后的参数，m为7，h为6"
   ]
  },
  {
   "cell_type": "markdown",
   "id": "e7ac2f60",
   "metadata": {},
   "source": [
    "选出F统计量最大的m=7个值，以及对应的m=7个段，再把这7个段放入一个list——features"
   ]
  },
  {
   "cell_type": "code",
   "execution_count": 3,
   "id": "03edaca6",
   "metadata": {},
   "outputs": [],
   "source": [
    "# 按组把训练集划分出5个对应输出['ao', 'aa', 'sh', 'iy', 'dcl']\n",
    "\n",
    "Xtrain_ao, Ytrain_ao = Xtrain.loc[Ytrain == 'ao', :], Ytrain.loc[Ytrain == 'ao']\n",
    "Xtrain_aa, Ytrain_aa = Xtrain.loc[Ytrain == 'aa', :], Ytrain.loc[Ytrain == 'aa']\n",
    "Xtrain_sh, Ytrain_sh = Xtrain.loc[Ytrain == 'sh', :], Ytrain.loc[Ytrain == 'sh']\n",
    "Xtrain_iy, Ytrain_iy = Xtrain.loc[Ytrain == 'iy', :], Ytrain.loc[Ytrain == 'iy']\n",
    "Xtrain_dcl, Ytrain_dcl = Xtrain.loc[Ytrain == 'dcl', :], Ytrain.loc[Ytrain == 'dcl']\n",
    "\n",
    "Xtrain_phoneme = [Xtrain_ao, Xtrain_aa, Xtrain_sh, Xtrain_iy, Xtrain_dcl]"
   ]
  },
  {
   "cell_type": "code",
   "execution_count": 4,
   "id": "f130933e",
   "metadata": {},
   "outputs": [],
   "source": [
    "# 定义F统计量\n",
    "def F(marker, Xtrain, Xtrain_phoneme,K = 5,  n=len(Xtrain)):\n",
    "  \n",
    "    up = 0\n",
    "    down = 0\n",
    "    \n",
    "    for k in range(K):\n",
    "        \n",
    "        X_marker_bar = Xtrain.mean()[marker] # X_j这里的marker从0开始\n",
    "        X_marker_k_bar = Xtrain_phoneme[k].mean()[marker] # X_jk\n",
    "        X_marker_in = Xtrain_phoneme[k].iloc[:, marker] # x_ij\n",
    "        \n",
    "        up += (len(Xtrain_phoneme[k]) * math.pow((X_marker_k_bar - X_marker_bar), 2) )/ (K - 1)\n",
    "        down += (sum((X_marker_in - X_marker_k_bar) * (X_marker_in - X_marker_k_bar)) )/ (n - K)\n",
    "    \n",
    "    F_marker = up / down\n",
    "    \n",
    "    return F_marker"
   ]
  },
  {
   "cell_type": "code",
   "execution_count": 5,
   "id": "66cb98b8",
   "metadata": {},
   "outputs": [],
   "source": [
    "# 将256个变量的F统计量存在一个数组里\n",
    "\n",
    "F_all = np.zeros(256)\n",
    "for i in range(256):\n",
    "    F_all[i] = F(i, Xtrain, Xtrain_phoneme)"
   ]
  },
  {
   "cell_type": "code",
   "execution_count": 6,
   "id": "44d6475e",
   "metadata": {},
   "outputs": [
    {
     "data": {
      "text/plain": [
       "array([ 29.,  22.,  35.,  16.,   3.,  41., 107.])"
      ]
     },
     "execution_count": 6,
     "metadata": {},
     "output_type": "execute_result"
    }
   ],
   "source": [
    "'''\n",
    "    输出最大的m=7个值得索引,segment长度，h=6\n",
    "    \n",
    "'''\n",
    "m, h = 7, 6\n",
    "S = np.zeros(m)\n",
    "F_temp = F_all.copy()\n",
    "\n",
    "for i in range(m):\n",
    "    S[i] = F_temp.argmax().copy()\n",
    "    \n",
    "    for j in range(h):\n",
    "        \n",
    "        if S[i] < h:\n",
    "            F_temp[int(S[i]+j)] = 0\n",
    "            F_temp[:int(S[i])] = 0\n",
    "        elif S[i] > (len(F_temp) - h):\n",
    "            F_temp[int(S[i]):] = 0\n",
    "            F_temp[int(S[i]-j)] = 0\n",
    "        else:\n",
    "            F_temp[int(S[i]+j)] = 0\n",
    "            F_temp[int(S[i]-j)] = 0\n",
    "S"
   ]
  },
  {
   "cell_type": "code",
   "execution_count": 7,
   "id": "3afa8107",
   "metadata": {},
   "outputs": [
    {
     "data": {
      "text/plain": [
       "[array([23, 24, 25, 26, 27, 28, 29, 30, 31, 32, 33, 34, 35]),\n",
       " array([16, 17, 18, 19, 20, 21, 22, 23, 24, 25, 26, 27, 28]),\n",
       " array([29, 30, 31, 32, 33, 34, 35, 36, 37, 38, 39, 40, 41]),\n",
       " array([10, 11, 12, 13, 14, 15, 16, 17, 18, 19, 20, 21, 22]),\n",
       " array([0, 1, 2, 3, 4, 5, 6, 7, 8, 9]),\n",
       " array([35, 36, 37, 38, 39, 40, 41, 42, 43, 44, 45, 46, 47]),\n",
       " array([101, 102, 103, 104, 105, 106, 107, 108, 109, 110, 111, 112, 113])]"
      ]
     },
     "execution_count": 7,
     "metadata": {},
     "output_type": "execute_result"
    }
   ],
   "source": [
    "features = []\n",
    "for i in range(m):\n",
    "    \n",
    "    if S[i] < h:      \n",
    "        temp = np.arange(int(S[i]+h+1)) # 索引左开右闭，加一\n",
    "    elif S[i] > (len(F_temp) - h):\n",
    "        temp = np.arange(int(S[i]-h),len(F_all)+1)\n",
    "    else:\n",
    "        temp = np.arange(int(S[i]-h),int(S[i]+h+1))\n",
    "        \n",
    "    features.append(temp)\n",
    "features"
   ]
  },
  {
   "cell_type": "markdown",
   "id": "848b8f3c",
   "metadata": {},
   "source": [
    "### LDA"
   ]
  },
  {
   "cell_type": "code",
   "execution_count": 8,
   "id": "1a05f904",
   "metadata": {},
   "outputs": [],
   "source": [
    "'''\n",
    "    输入:\n",
    "        训练集/测试集\n",
    "        一个features列表【m=7,h=6】\n",
    "        m和n\n",
    "              \n",
    "    输出:\n",
    "        经过LDA压缩处理过后的3*m * n 的自变量(train or test)X_all_LDA, 和对应的标签Y\n",
    "'''\n",
    "def all_LDA(X,Y,features,m):\n",
    "    lda = LinearDiscriminantAnalysis(n_components=3)\n",
    "    X_all_LDA = np.zeros((len(X),m*3))\n",
    "    for i in range(m):\n",
    "        X_lda = lda.fit(X.iloc[:,features[i]], Y).transform(X.iloc[:,features[i]])\n",
    "        X_all_LDA[:,i*3:(i+1)*3] = X_lda\n",
    "\n",
    "    return X_all_LDA\n",
    "\n",
    "Xtrain_lda = all_LDA(Xtrain,Ytrain,features,m=7)\n",
    "Xtest_lda = all_LDA(Xtest, Ytest,features, m=7)"
   ]
  },
  {
   "cell_type": "markdown",
   "id": "de632f23",
   "metadata": {},
   "source": [
    "### SVM"
   ]
  },
  {
   "cell_type": "code",
   "execution_count": 9,
   "id": "ad4f58c5",
   "metadata": {},
   "outputs": [
    {
     "name": "stdout",
     "output_type": "stream",
     "text": [
      "训练集准确率为:0.9365269461\n",
      "测试集准确率为:0.3729683490\n"
     ]
    }
   ],
   "source": [
    "# SVM\n",
    "'''\n",
    "    输入:经过LDA压缩处理过后的3*m * n 的自变量Xtrain_all_LDA, 和对应的标签Y\n",
    "    输出：训练集和测试集的准确率\n",
    "    \n",
    "    未做：更换核函数\n",
    "'''\n",
    "\n",
    "X = Xtrain_lda\n",
    "Y = Ytrain\n",
    "clf = svm.SVC(decision_function_shape='ovo',kernel = 'rbf')\n",
    "clf.fit(X, Y)\n",
    "acc_train = accuracy_score(Ytrain,clf.predict(Xtrain_lda))\n",
    "acc_test = accuracy_score(Ytest, clf.predict(Xtest_lda))\n",
    "\n",
    "print(\n",
    "    '训练集准确率为:%.10f'%(acc_train)\n",
    ")\n",
    "print(\n",
    "    '测试集准确率为:%.10f'%(acc_test)\n",
    ")"
   ]
  },
  {
   "cell_type": "markdown",
   "id": "d13098d6",
   "metadata": {},
   "source": [
    "### 试一下不分开一起放入LDA"
   ]
  },
  {
   "cell_type": "code",
   "execution_count": 10,
   "id": "23de3821",
   "metadata": {},
   "outputs": [
    {
     "name": "stdout",
     "output_type": "stream",
     "text": [
      "训练集准确率为:0.8790419162\n",
      "测试集准确率为:0.8656971771\n"
     ]
    }
   ],
   "source": [
    "features_all = []\n",
    "\n",
    "for i in range(m):\n",
    "    features_all += list(features[i])\n",
    "    \n",
    "len(features_all)\n",
    "Xtrain_all = Xtrain.iloc[:,features_all]\n",
    "Xtest_all = Xtest.iloc[:, features_all]\n",
    "\n",
    "lda = LinearDiscriminantAnalysis(n_components=3)\n",
    "Xtrain_all_lda = lda.fit(Xtrain_all, Ytrain).transform(Xtrain_all)\n",
    "Xtest_all_lda = lda.fit(Xtest_all, Ytest).transform(Xtest_all)\n",
    "\n",
    "clf = svm.SVC(decision_function_shape='ovo',kernel = 'rbf')\n",
    "clf.fit(Xtrain_all_lda, Ytrain)\n",
    "\n",
    "acc_train = accuracy_score(Ytrain,clf.predict(Xtrain_all_lda))\n",
    "acc_test = accuracy_score(Ytest, clf.predict(Xtest_all_lda))\n",
    "\n",
    "print(\n",
    "    '训练集准确率为:%.10f'%(acc_train)\n",
    ")\n",
    "print(\n",
    "    '测试集准确率为:%.10f'%(acc_test)\n",
    ")"
   ]
  },
  {
   "cell_type": "markdown",
   "id": "3200e79b",
   "metadata": {},
   "source": [
    "### 试一下不通过F统计量直接全部放入LDA"
   ]
  },
  {
   "cell_type": "code",
   "execution_count": 14,
   "id": "0fffafe2",
   "metadata": {},
   "outputs": [
    {
     "name": "stdout",
     "output_type": "stream",
     "text": [
      "训练集准确率为:0.8742514970\n",
      "测试集准确率为:0.8674080411\n"
     ]
    }
   ],
   "source": [
    "lda = LinearDiscriminantAnalysis(n_components=3)\n",
    "Xtrain_lda = lda.fit(Xtrain, Ytrain).transform(Xtrain)\n",
    "Xtest_lda = lda.fit(Xtest, Ytest).transform(Xtest)\n",
    "\n",
    "clf = svm.SVC(decision_function_shape='ovo',kernel = 'rbf')\n",
    "clf.fit(Xtrain_lda, Ytrain)\n",
    "\n",
    "acc_train = accuracy_score(Ytrain,clf.predict(Xtrain_lda))\n",
    "acc_test = accuracy_score(Ytest, clf.predict(Xtest_lda))\n",
    "\n",
    "print(\n",
    "    '训练集准确率为:%.10f'%(acc_train)\n",
    ")\n",
    "print(\n",
    "    '测试集准确率为:%.10f'%(acc_test)\n",
    ")"
   ]
  },
  {
   "cell_type": "code",
   "execution_count": 13,
   "id": "480cabd2",
   "metadata": {},
   "outputs": [
    {
     "data": {
      "text/html": [
       "<div>\n",
       "<style scoped>\n",
       "    .dataframe tbody tr th:only-of-type {\n",
       "        vertical-align: middle;\n",
       "    }\n",
       "\n",
       "    .dataframe tbody tr th {\n",
       "        vertical-align: top;\n",
       "    }\n",
       "\n",
       "    .dataframe thead th {\n",
       "        text-align: right;\n",
       "    }\n",
       "</style>\n",
       "<table border=\"1\" class=\"dataframe\">\n",
       "  <thead>\n",
       "    <tr style=\"text-align: right;\">\n",
       "      <th></th>\n",
       "      <th>x.1</th>\n",
       "      <th>x.2</th>\n",
       "      <th>x.3</th>\n",
       "      <th>x.4</th>\n",
       "      <th>x.5</th>\n",
       "      <th>x.6</th>\n",
       "      <th>x.7</th>\n",
       "      <th>x.8</th>\n",
       "      <th>x.9</th>\n",
       "      <th>x.10</th>\n",
       "      <th>...</th>\n",
       "      <th>x.247</th>\n",
       "      <th>x.248</th>\n",
       "      <th>x.249</th>\n",
       "      <th>x.250</th>\n",
       "      <th>x.251</th>\n",
       "      <th>x.252</th>\n",
       "      <th>x.253</th>\n",
       "      <th>x.254</th>\n",
       "      <th>x.255</th>\n",
       "      <th>x.256</th>\n",
       "    </tr>\n",
       "    <tr>\n",
       "      <th>row.names</th>\n",
       "      <th></th>\n",
       "      <th></th>\n",
       "      <th></th>\n",
       "      <th></th>\n",
       "      <th></th>\n",
       "      <th></th>\n",
       "      <th></th>\n",
       "      <th></th>\n",
       "      <th></th>\n",
       "      <th></th>\n",
       "      <th></th>\n",
       "      <th></th>\n",
       "      <th></th>\n",
       "      <th></th>\n",
       "      <th></th>\n",
       "      <th></th>\n",
       "      <th></th>\n",
       "      <th></th>\n",
       "      <th></th>\n",
       "      <th></th>\n",
       "      <th></th>\n",
       "    </tr>\n",
       "  </thead>\n",
       "  <tbody>\n",
       "    <tr>\n",
       "      <th>1</th>\n",
       "      <td>9.85770</td>\n",
       "      <td>9.20711</td>\n",
       "      <td>9.81689</td>\n",
       "      <td>9.01692</td>\n",
       "      <td>9.05675</td>\n",
       "      <td>8.92518</td>\n",
       "      <td>11.28308</td>\n",
       "      <td>11.52980</td>\n",
       "      <td>10.79713</td>\n",
       "      <td>9.04747</td>\n",
       "      <td>...</td>\n",
       "      <td>13.19359</td>\n",
       "      <td>12.94519</td>\n",
       "      <td>12.68076</td>\n",
       "      <td>11.20767</td>\n",
       "      <td>13.69394</td>\n",
       "      <td>13.72055</td>\n",
       "      <td>12.16628</td>\n",
       "      <td>12.92489</td>\n",
       "      <td>12.51195</td>\n",
       "      <td>9.75527</td>\n",
       "    </tr>\n",
       "    <tr>\n",
       "      <th>2</th>\n",
       "      <td>13.23079</td>\n",
       "      <td>14.19189</td>\n",
       "      <td>15.34428</td>\n",
       "      <td>18.11737</td>\n",
       "      <td>19.53875</td>\n",
       "      <td>18.32726</td>\n",
       "      <td>17.34169</td>\n",
       "      <td>17.16861</td>\n",
       "      <td>19.63557</td>\n",
       "      <td>20.15212</td>\n",
       "      <td>...</td>\n",
       "      <td>7.93572</td>\n",
       "      <td>8.91567</td>\n",
       "      <td>8.45714</td>\n",
       "      <td>8.77266</td>\n",
       "      <td>9.59717</td>\n",
       "      <td>8.45336</td>\n",
       "      <td>7.57730</td>\n",
       "      <td>5.38504</td>\n",
       "      <td>9.43063</td>\n",
       "      <td>8.59328</td>\n",
       "    </tr>\n",
       "    <tr>\n",
       "      <th>...</th>\n",
       "      <td>...</td>\n",
       "      <td>...</td>\n",
       "      <td>...</td>\n",
       "      <td>...</td>\n",
       "      <td>...</td>\n",
       "      <td>...</td>\n",
       "      <td>...</td>\n",
       "      <td>...</td>\n",
       "      <td>...</td>\n",
       "      <td>...</td>\n",
       "      <td>...</td>\n",
       "      <td>...</td>\n",
       "      <td>...</td>\n",
       "      <td>...</td>\n",
       "      <td>...</td>\n",
       "      <td>...</td>\n",
       "      <td>...</td>\n",
       "      <td>...</td>\n",
       "      <td>...</td>\n",
       "      <td>...</td>\n",
       "      <td>...</td>\n",
       "    </tr>\n",
       "    <tr>\n",
       "      <th>3339</th>\n",
       "      <td>12.08473</td>\n",
       "      <td>13.30547</td>\n",
       "      <td>16.92965</td>\n",
       "      <td>17.14066</td>\n",
       "      <td>13.09360</td>\n",
       "      <td>17.26574</td>\n",
       "      <td>19.11256</td>\n",
       "      <td>17.70642</td>\n",
       "      <td>14.61316</td>\n",
       "      <td>18.45107</td>\n",
       "      <td>...</td>\n",
       "      <td>7.88290</td>\n",
       "      <td>5.10791</td>\n",
       "      <td>3.52400</td>\n",
       "      <td>5.13305</td>\n",
       "      <td>6.11436</td>\n",
       "      <td>6.73741</td>\n",
       "      <td>4.14095</td>\n",
       "      <td>5.68638</td>\n",
       "      <td>6.17875</td>\n",
       "      <td>7.57668</td>\n",
       "    </tr>\n",
       "    <tr>\n",
       "      <th>3340</th>\n",
       "      <td>12.50446</td>\n",
       "      <td>13.94449</td>\n",
       "      <td>16.18002</td>\n",
       "      <td>16.87066</td>\n",
       "      <td>11.25393</td>\n",
       "      <td>16.60865</td>\n",
       "      <td>17.89792</td>\n",
       "      <td>16.89914</td>\n",
       "      <td>12.85608</td>\n",
       "      <td>18.02536</td>\n",
       "      <td>...</td>\n",
       "      <td>8.84677</td>\n",
       "      <td>7.34096</td>\n",
       "      <td>7.10767</td>\n",
       "      <td>7.20332</td>\n",
       "      <td>7.26288</td>\n",
       "      <td>6.06767</td>\n",
       "      <td>7.92481</td>\n",
       "      <td>7.41997</td>\n",
       "      <td>4.88609</td>\n",
       "      <td>4.94594</td>\n",
       "    </tr>\n",
       "  </tbody>\n",
       "</table>\n",
       "<p>3340 rows × 256 columns</p>\n",
       "</div>"
      ],
      "text/plain": [
       "                x.1       x.2       x.3       x.4       x.5       x.6  \\\n",
       "row.names                                                               \n",
       "1           9.85770   9.20711   9.81689   9.01692   9.05675   8.92518   \n",
       "2          13.23079  14.19189  15.34428  18.11737  19.53875  18.32726   \n",
       "...             ...       ...       ...       ...       ...       ...   \n",
       "3339       12.08473  13.30547  16.92965  17.14066  13.09360  17.26574   \n",
       "3340       12.50446  13.94449  16.18002  16.87066  11.25393  16.60865   \n",
       "\n",
       "                x.7       x.8       x.9      x.10  ...     x.247     x.248  \\\n",
       "row.names                                          ...                       \n",
       "1          11.28308  11.52980  10.79713   9.04747  ...  13.19359  12.94519   \n",
       "2          17.34169  17.16861  19.63557  20.15212  ...   7.93572   8.91567   \n",
       "...             ...       ...       ...       ...  ...       ...       ...   \n",
       "3339       19.11256  17.70642  14.61316  18.45107  ...   7.88290   5.10791   \n",
       "3340       17.89792  16.89914  12.85608  18.02536  ...   8.84677   7.34096   \n",
       "\n",
       "              x.249     x.250     x.251     x.252     x.253     x.254  \\\n",
       "row.names                                                               \n",
       "1          12.68076  11.20767  13.69394  13.72055  12.16628  12.92489   \n",
       "2           8.45714   8.77266   9.59717   8.45336   7.57730   5.38504   \n",
       "...             ...       ...       ...       ...       ...       ...   \n",
       "3339        3.52400   5.13305   6.11436   6.73741   4.14095   5.68638   \n",
       "3340        7.10767   7.20332   7.26288   6.06767   7.92481   7.41997   \n",
       "\n",
       "              x.255    x.256  \n",
       "row.names                     \n",
       "1          12.51195  9.75527  \n",
       "2           9.43063  8.59328  \n",
       "...             ...      ...  \n",
       "3339        6.17875  7.57668  \n",
       "3340        4.88609  4.94594  \n",
       "\n",
       "[3340 rows x 256 columns]"
      ]
     },
     "execution_count": 13,
     "metadata": {},
     "output_type": "execute_result"
    }
   ],
   "source": [
    "Xtrain"
   ]
  }
 ],
 "metadata": {
  "kernelspec": {
   "display_name": "Python 3",
   "language": "python",
   "name": "python3"
  },
  "language_info": {
   "codemirror_mode": {
    "name": "ipython",
    "version": 3
   },
   "file_extension": ".py",
   "mimetype": "text/x-python",
   "name": "python",
   "nbconvert_exporter": "python",
   "pygments_lexer": "ipython3",
   "version": "3.8.8"
  },
  "toc": {
   "base_numbering": 1,
   "nav_menu": {},
   "number_sections": true,
   "sideBar": true,
   "skip_h1_title": false,
   "title_cell": "Table of Contents",
   "title_sidebar": "Contents",
   "toc_cell": false,
   "toc_position": {},
   "toc_section_display": true,
   "toc_window_display": false
  },
  "varInspector": {
   "cols": {
    "lenName": 16,
    "lenType": 16,
    "lenVar": 40
   },
   "kernels_config": {
    "python": {
     "delete_cmd_postfix": "",
     "delete_cmd_prefix": "del ",
     "library": "var_list.py",
     "varRefreshCmd": "print(var_dic_list())"
    },
    "r": {
     "delete_cmd_postfix": ") ",
     "delete_cmd_prefix": "rm(",
     "library": "var_list.r",
     "varRefreshCmd": "cat(var_dic_list()) "
    }
   },
   "position": {
    "height": "475.4px",
    "left": "509.4px",
    "right": "20px",
    "top": "177px",
    "width": "161px"
   },
   "types_to_exclude": [
    "module",
    "function",
    "builtin_function_or_method",
    "instance",
    "_Feature"
   ],
   "window_display": false
  }
 },
 "nbformat": 4,
 "nbformat_minor": 5
}
