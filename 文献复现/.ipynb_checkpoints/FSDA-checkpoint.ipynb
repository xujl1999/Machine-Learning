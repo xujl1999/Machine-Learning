{
 "cells": [
  {
   "cell_type": "code",
   "execution_count": 1,
   "id": "9737b828",
   "metadata": {},
   "outputs": [],
   "source": [
    "import numpy as np\n",
    "import pandas as pd\n",
    "import matplotlib.pyplot as plt\n",
    "from sklearn.discriminant_analysis import LinearDiscriminantAnalysis\n",
    "from sklearn.svm import SVC"
   ]
  },
  {
   "cell_type": "code",
   "execution_count": 2,
   "id": "f8ef7990",
   "metadata": {},
   "outputs": [],
   "source": [
    "#输入数据\n",
    "f=open('F:\\\\Data and code\\\\data\\\\FSDA\\\\phoneme.data')\n",
    "df=pd.read_csv(f)\n",
    "df=df.drop('row.names',1)\n",
    "df_train=df.head(1000)\n",
    "df_test=df[1000:4509]\n",
    "data_train=np.array(df_train)\n",
    "data_test=np.array(df_test)\n",
    "#将数据按类标签分成五类\n",
    "df1=df_train.query('g==\"sh\"')\n",
    "df2=df_train.query('g==\"dcl\"')\n",
    "df3=df_train.query('g==\"iy\"')\n",
    "df4=df_train.query('g==\"aa\"')\n",
    "df5=df_train.query('g==\"ao\"')\n",
    "X_train=np.array(df_train.drop(df_train.columns[[256,257]],1))\n",
    "X_test=np.array(df_test.drop(df_test.columns[[256,257]],1))\n",
    "Y_train=data_train[:,256]\n",
    "Y_test=data_test[:,256]\n",
    "X_sh=np.array(df1.drop(df1.columns[[256,257]],1))\n",
    "X_dcl=np.array(df2.drop(df2.columns[[256,257]],1))\n",
    "X_iy=np.array(df3.drop(df3.columns[[256,257]],1))\n",
    "X_aa=np.array(df4.drop(df4.columns[[256,257]],1))\n",
    "X_ao=np.array(df5.drop(df5.columns[[256,257]],1))"
   ]
  },
  {
   "cell_type": "code",
   "execution_count": 3,
   "id": "3d0db971",
   "metadata": {},
   "outputs": [],
   "source": [
    "#计算F统计量，选出m个h-separared markers\n",
    "X_mean=np.average(X_train,0)\n",
    "X_sh_mean=np.average(X_sh,0)\n",
    "X_dcl_mean=np.average(X_dcl,0)\n",
    "X_iy_mean=np.average(X_iy,0)\n",
    "X_aa_mean=np.average(X_aa,0)\n",
    "X_ao_mean=np.average(X_ao,0)\n",
    "# n1=len(X_sh)\n",
    "# n2=len(X_dcl)\n",
    "# n3=len(X_iy)\n",
    "# n4=len(X_aa)\n",
    "# n5=len(X_ao)\n",
    "Sb=(len(X_sh)*np.square(X_sh_mean-X_mean)+len(X_dcl)*np.square(X_dcl_mean-X_mean)\n",
    "    +len(X_iy)*np.square(X_iy_mean-X_mean)+len(X_aa)*np.square(X_aa_mean-X_mean)\n",
    "    +len(X_ao)*np.square(X_ao_mean-X_mean))/4\n",
    "Sw=(np.var(X_sh,axis=0)*len(X_sh)+np.var(X_dcl,axis=0)*len(X_dcl)\n",
    "    +np.var(X_iy,axis=0)*len(X_iy)+len(X_aa)*np.var(X_aa,axis=0)\n",
    "    +len(X_ao)*np.var(X_ao,axis=0))/(len(X_train)-5)\n",
    "F=Sb/Sw"
   ]
  },
  {
   "cell_type": "code",
   "execution_count": 4,
   "id": "231a84ef",
   "metadata": {},
   "outputs": [
    {
     "name": "stdout",
     "output_type": "stream",
     "text": [
      "[29. 21. 35.  3. 41. 14. 69.]\n"
     ]
    }
   ],
   "source": [
    "#根据m,h选择m个markers\n",
    "def findmarkers(m,h,F):\n",
    "    markers=np.zeros(m)\n",
    "    for i in range(m):\n",
    "        markers[i]=np.argmax(F)\n",
    "        F[max(np.argmax(F)-h,0):min(np.argmax(F)+h,len(F)-1)]=0\n",
    "    return markers\n",
    "m=7\n",
    "h=6\n",
    "markers=findmarkers(m,h,F)\n",
    "print(markers)"
   ]
  },
  {
   "cell_type": "code",
   "execution_count": 5,
   "id": "fbe432ef",
   "metadata": {},
   "outputs": [],
   "source": [
    "#LDA降维，得到3m个线性判别变量\n",
    "lda = LinearDiscriminantAnalysis(n_components=3)\n",
    "lda.fit(X_train[:,int(max(markers[0]-h,0)):int(min(markers[0]+h,X_train.shape[1]-1))],Y_train)\n",
    "X_train_ldv = lda.transform(X_train[:,int(max(markers[0]-h,0)):int(min(markers[0]+h,X_train.shape[1]-1))])\n",
    "X_test_ldv = lda.transform(X_test[:,int(max(markers[0]-h,0)):int(min(markers[0]+h,X_test.shape[1]-1))])\n",
    "for i in range(1,m):\n",
    "    lda.fit(X_train[:,int(max(markers[i]-h,0)):int(min(markers[i]+h,X_train.shape[1]-1))],Y_train)\n",
    "    X_train_new = lda.transform(X_train[:,int(max(markers[i]-h,0)):int(min(markers[i]+h,X_train.shape[1]-1))])\n",
    "    X_test_new = lda.transform(X_test[:,int(max(markers[i]-h,0)):int(min(markers[i]+h,X_test.shape[1]-1))])\n",
    "    X_train_ldv=np.hstack((X_train_ldv,X_train_new))\n",
    "    X_test_ldv=np.hstack((X_test_ldv,X_test_new))\n",
    "#print(X_ldv)\n",
    "#print(np.shape(X_ldv))"
   ]
  },
  {
   "cell_type": "code",
   "execution_count": 6,
   "id": "9b93f545",
   "metadata": {},
   "outputs": [
    {
     "name": "stdout",
     "output_type": "stream",
     "text": [
      "0.953\n",
      "0.9162154459960102\n"
     ]
    }
   ],
   "source": [
    "clf = SVC(kernel='rbf',decision_function_shape='ovo')\n",
    "clf.fit(X_train_ldv, Y_train)\n",
    "print(clf.score(X_train_ldv, Y_train))\n",
    "print(clf.score(X_test_ldv, Y_test))\n"
   ]
  },
  {
   "cell_type": "code",
   "execution_count": null,
   "id": "9c9bdf40",
   "metadata": {},
   "outputs": [],
   "source": []
  }
 ],
 "metadata": {
  "kernelspec": {
   "display_name": "Python 3",
   "language": "python",
   "name": "python3"
  },
  "language_info": {
   "codemirror_mode": {
    "name": "ipython",
    "version": 3
   },
   "file_extension": ".py",
   "mimetype": "text/x-python",
   "name": "python",
   "nbconvert_exporter": "python",
   "pygments_lexer": "ipython3",
   "version": "3.8.8"
  },
  "toc": {
   "base_numbering": 1,
   "nav_menu": {},
   "number_sections": true,
   "sideBar": true,
   "skip_h1_title": false,
   "title_cell": "Table of Contents",
   "title_sidebar": "Contents",
   "toc_cell": false,
   "toc_position": {},
   "toc_section_display": true,
   "toc_window_display": false
  },
  "varInspector": {
   "cols": {
    "lenName": 16,
    "lenType": 16,
    "lenVar": 40
   },
   "kernels_config": {
    "python": {
     "delete_cmd_postfix": "",
     "delete_cmd_prefix": "del ",
     "library": "var_list.py",
     "varRefreshCmd": "print(var_dic_list())"
    },
    "r": {
     "delete_cmd_postfix": ") ",
     "delete_cmd_prefix": "rm(",
     "library": "var_list.r",
     "varRefreshCmd": "cat(var_dic_list()) "
    }
   },
   "types_to_exclude": [
    "module",
    "function",
    "builtin_function_or_method",
    "instance",
    "_Feature"
   ],
   "window_display": false
  }
 },
 "nbformat": 4,
 "nbformat_minor": 5
}
