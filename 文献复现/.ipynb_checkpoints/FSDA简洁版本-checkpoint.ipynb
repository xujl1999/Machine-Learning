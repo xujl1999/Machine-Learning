{
 "cells": [
  {
   "cell_type": "markdown",
   "id": "7dad84a6",
   "metadata": {},
   "source": [
    "# 代码实现\n",
    "## 导入数据"
   ]
  },
  {
   "cell_type": "code",
   "execution_count": 1,
   "id": "5bc60919",
   "metadata": {},
   "outputs": [],
   "source": [
    "import math\n",
    "import numpy as np\n",
    "import matplotlib.pyplot as plt\n",
    "import pandas as pd\n",
    "import sklearn\n",
    "from sklearn import datasets\n",
    "from sklearn.decomposition import PCA\n",
    "from sklearn import svm\n",
    "from sklearn.discriminant_analysis import LinearDiscriminantAnalysis\n",
    "from sklearn.metrics import accuracy_score\n",
    "\n",
    "df = pd.read_csv('F:\\\\Data and code\\\\data\\\\FSDA\\\\phoneme.data',index_col = 0)\n",
    "pd.set_option('display.max_rows',5)"
   ]
  },
  {
   "cell_type": "markdown",
   "id": "3776f52d",
   "metadata": {},
   "source": [
    "* speaker文章里面没有管\n",
    "* test.dr1.mdab0.sa1——第3341行【索引是3340】是第一个测试集行\n",
    "* 3340行df.iloc[:3340]训练集\n",
    "* 1169行df.iloc[3340:]测试集"
   ]
  },
  {
   "cell_type": "markdown",
   "id": "6396fe0b",
   "metadata": {},
   "source": [
    "## Data Split"
   ]
  },
  {
   "cell_type": "code",
   "execution_count": 2,
   "id": "651a0fb3",
   "metadata": {},
   "outputs": [],
   "source": [
    "Xtrain = df.iloc[:3340,:-2]\n",
    "Ytrain = df.iloc[:3340,-2]\n",
    "\n",
    "Xtest = df.iloc[3340:,:-2]\n",
    "Ytest = df.iloc[3340:,-2]"
   ]
  },
  {
   "cell_type": "markdown",
   "id": "732d441c",
   "metadata": {},
   "source": [
    "## 代码实现"
   ]
  },
  {
   "cell_type": "markdown",
   "id": "80c3dafd",
   "metadata": {},
   "source": [
    "### F统计量\n",
    "* 通过F统计量选出m个marker，以及对应的段\n",
    "* 这里首先尝试论文中交叉验证后的参数，m为7，h为6"
   ]
  },
  {
   "cell_type": "markdown",
   "id": "e7ac2f60",
   "metadata": {},
   "source": [
    "选出F统计量最大的m=7个值，以及对应的m=7个段，再把这7个段放入一个list——features"
   ]
  },
  {
   "cell_type": "code",
   "execution_count": 3,
   "id": "03edaca6",
   "metadata": {},
   "outputs": [],
   "source": [
    "# 按组把训练集划分出5个对应输出['ao', 'aa', 'sh', 'iy', 'dcl']\n",
    "\n",
    "Xtrain_ao, Ytrain_ao = Xtrain.loc[Ytrain == 'ao', :], Ytrain.loc[Ytrain == 'ao']\n",
    "Xtrain_aa, Ytrain_aa = Xtrain.loc[Ytrain == 'aa', :], Ytrain.loc[Ytrain == 'aa']\n",
    "Xtrain_sh, Ytrain_sh = Xtrain.loc[Ytrain == 'sh', :], Ytrain.loc[Ytrain == 'sh']\n",
    "Xtrain_iy, Ytrain_iy = Xtrain.loc[Ytrain == 'iy', :], Ytrain.loc[Ytrain == 'iy']\n",
    "Xtrain_dcl, Ytrain_dcl = Xtrain.loc[Ytrain == 'dcl', :], Ytrain.loc[Ytrain == 'dcl']\n",
    "\n",
    "Xtrain_phoneme = [Xtrain_ao, Xtrain_aa, Xtrain_sh, Xtrain_iy, Xtrain_dcl]"
   ]
  },
  {
   "cell_type": "code",
   "execution_count": 4,
   "id": "f130933e",
   "metadata": {},
   "outputs": [],
   "source": [
    "# 定义F统计量\n",
    "def F(marker, Xtrain, Xtrain_phoneme,K = 5,  n=3340):\n",
    "  \n",
    "    up = 0\n",
    "    down = 0\n",
    "    \n",
    "    for k in range(K):\n",
    "        \n",
    "        X_marker_bar = Xtrain.mean()[marker] # X_j这里的marker从0开始\n",
    "        X_marker_k_bar = Xtrain_phoneme[k].mean()[marker] # X_jk\n",
    "        X_marker_in = Xtrain_phoneme[k].iloc[:, marker] # x_ij\n",
    "        \n",
    "        up += len(Xtrain_phoneme[k]) * math.pow((X_marker_k_bar - X_marker_bar), 2) / (K - 1)\n",
    "        down += sum((X_marker_in - X_marker_k_bar) * (X_marker_in - X_marker_k_bar)) / (n - K)\n",
    "    \n",
    "    F_marker = up / down\n",
    "    \n",
    "    return F_marker"
   ]
  },
  {
   "cell_type": "code",
   "execution_count": 5,
   "id": "66cb98b8",
   "metadata": {},
   "outputs": [],
   "source": [
    "# 将256个变量的F统计量存在一个数组里\n",
    "\n",
    "F_all = np.zeros(256)\n",
    "for i in range(256):\n",
    "    F_all[i] = F(i, Xtrain, Xtrain_phoneme)"
   ]
  },
  {
   "cell_type": "code",
   "execution_count": 6,
   "id": "44d6475e",
   "metadata": {},
   "outputs": [
    {
     "data": {
      "text/plain": [
       "array([ 29.,  22.,  35.,  16.,   3.,  41., 107.])"
      ]
     },
     "execution_count": 6,
     "metadata": {},
     "output_type": "execute_result"
    }
   ],
   "source": [
    "'''\n",
    "    输出最大的m=7个值得索引,segment长度，h=6\n",
    "    \n",
    "'''\n",
    "m, h = 7, 6\n",
    "S = np.zeros(m)\n",
    "F_temp = F_all.copy()\n",
    "\n",
    "for i in range(m):\n",
    "    S[i] = F_temp.argmax().copy()\n",
    "    \n",
    "    for j in range(h):\n",
    "        \n",
    "        if S[i] < h:\n",
    "            F_temp[int(S[i]+j)] = 0\n",
    "            F_temp[:int(S[i])] = 0\n",
    "        elif S[i] > (len(F_temp) - h):\n",
    "            F_temp[int(S[i]):] = 0\n",
    "            F_temp[int(S[i]-j)] = 0\n",
    "        else:\n",
    "            F_temp[int(S[i]+j)] = 0\n",
    "            F_temp[int(S[i]-j)] = 0\n",
    "S"
   ]
  },
  {
   "cell_type": "code",
   "execution_count": 7,
   "id": "3afa8107",
   "metadata": {},
   "outputs": [
    {
     "data": {
      "text/plain": [
       "[array([23, 24, 25, 26, 27, 28, 29, 30, 31, 32, 33, 34, 35]),\n",
       " array([16, 17, 18, 19, 20, 21, 22, 23, 24, 25, 26, 27, 28]),\n",
       " array([29, 30, 31, 32, 33, 34, 35, 36, 37, 38, 39, 40, 41]),\n",
       " array([10, 11, 12, 13, 14, 15, 16, 17, 18, 19, 20, 21, 22]),\n",
       " array([0, 1, 2, 3, 4, 5, 6, 7, 8, 9]),\n",
       " array([35, 36, 37, 38, 39, 40, 41, 42, 43, 44, 45, 46, 47]),\n",
       " array([101, 102, 103, 104, 105, 106, 107, 108, 109, 110, 111, 112, 113])]"
      ]
     },
     "execution_count": 7,
     "metadata": {},
     "output_type": "execute_result"
    }
   ],
   "source": [
    "features = []\n",
    "for i in range(m):\n",
    "    \n",
    "    if S[i] < h:      \n",
    "        temp = np.arange(int(S[i]+h+1)) # 索引左开右闭，加一\n",
    "    elif S[i] > (len(F_temp) - h):\n",
    "        temp = np.arange(int(S[i]-h),len(F_all)+1)\n",
    "    else:\n",
    "        temp = np.arange(int(S[i]-h),int(S[i]+h+1))\n",
    "    features.append(temp)\n",
    "features"
   ]
  },
  {
   "cell_type": "markdown",
   "id": "848b8f3c",
   "metadata": {},
   "source": [
    "### LDA"
   ]
  },
  {
   "cell_type": "code",
   "execution_count": 8,
   "id": "1a05f904",
   "metadata": {},
   "outputs": [],
   "source": [
    "'''\n",
    "    输入:\n",
    "        训练集/测试集\n",
    "        一个features列表【m=7,h=6】\n",
    "        m和n\n",
    "              \n",
    "    输出:\n",
    "        经过LDA压缩处理过后的3*m * n 的自变量(train or test)X_all_LDA, 和对应的标签Y\n",
    "'''\n",
    "def all_LDA(X,Y,features,m):\n",
    "    lda = LinearDiscriminantAnalysis(n_components=3)\n",
    "    X_all_LDA = np.zeros((len(X),m*3))\n",
    "    for i in range(m):\n",
    "        X_lda = lda.fit(X.iloc[:,features[i]], Y).transform(X.iloc[:,features[i]])\n",
    "        X_all_LDA[:,i*3:(i+1)*3] = X_lda\n",
    "\n",
    "    return X_all_LDA\n",
    "\n",
    "Xtrain_lda = all_LDA(Xtrain,Ytrain,features,m=7)\n",
    "Xtest_lda = all_LDA(Xtest, Ytest,features, m=7)"
   ]
  },
  {
   "cell_type": "markdown",
   "id": "de632f23",
   "metadata": {},
   "source": [
    "### SVM"
   ]
  },
  {
   "cell_type": "code",
   "execution_count": 9,
   "id": "ad4f58c5",
   "metadata": {},
   "outputs": [
    {
     "name": "stdout",
     "output_type": "stream",
     "text": [
      "训练集准确率为:0.9365269461\n",
      "测试集准确率为:0.3729683490\n"
     ]
    }
   ],
   "source": [
    "# SVM\n",
    "'''\n",
    "    输入:经过LDA压缩处理过后的3*m * n 的自变量Xtrain_all_LDA, 和对应的标签Y\n",
    "    输出：训练集和测试集的准确率\n",
    "    \n",
    "    未做：更换核函数\n",
    "'''\n",
    "\n",
    "X = Xtrain_lda\n",
    "Y = Ytrain\n",
    "clf = svm.SVC(decision_function_shape='ovo',kernel = 'rbf')\n",
    "clf.fit(X, Y)\n",
    "acc_train = accuracy_score(Ytrain,clf.predict(Xtrain_lda))\n",
    "acc_test = accuracy_score(Ytest, clf.predict(Xtest_lda))\n",
    "\n",
    "print(\n",
    "    '训练集准确率为:%.10f'%(acc_train)\n",
    ")\n",
    "print(\n",
    "    '测试集准确率为:%.10f'%(acc_test)\n",
    ")"
   ]
  }
 ],
 "metadata": {
  "kernelspec": {
   "display_name": "Python 3",
   "language": "python",
   "name": "python3"
  },
  "language_info": {
   "codemirror_mode": {
    "name": "ipython",
    "version": 3
   },
   "file_extension": ".py",
   "mimetype": "text/x-python",
   "name": "python",
   "nbconvert_exporter": "python",
   "pygments_lexer": "ipython3",
   "version": "3.8.8"
  },
  "toc": {
   "base_numbering": 1,
   "nav_menu": {},
   "number_sections": true,
   "sideBar": true,
   "skip_h1_title": false,
   "title_cell": "Table of Contents",
   "title_sidebar": "Contents",
   "toc_cell": false,
   "toc_position": {},
   "toc_section_display": true,
   "toc_window_display": false
  },
  "varInspector": {
   "cols": {
    "lenName": 16,
    "lenType": 16,
    "lenVar": 40
   },
   "kernels_config": {
    "python": {
     "delete_cmd_postfix": "",
     "delete_cmd_prefix": "del ",
     "library": "var_list.py",
     "varRefreshCmd": "print(var_dic_list())"
    },
    "r": {
     "delete_cmd_postfix": ") ",
     "delete_cmd_prefix": "rm(",
     "library": "var_list.r",
     "varRefreshCmd": "cat(var_dic_list()) "
    }
   },
   "types_to_exclude": [
    "module",
    "function",
    "builtin_function_or_method",
    "instance",
    "_Feature"
   ],
   "window_display": false
  }
 },
 "nbformat": 4,
 "nbformat_minor": 5
}
